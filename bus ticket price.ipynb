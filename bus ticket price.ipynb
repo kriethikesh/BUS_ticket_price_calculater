{
  "nbformat": 4,
  "nbformat_minor": 0,
  "metadata": {
    "colab": {
      "provenance": []
    },
    "kernelspec": {
      "name": "python3",
      "display_name": "Python 3"
    },
    "language_info": {
      "name": "python"
    }
  },
  "cells": [
    {
      "cell_type": "code",
      "execution_count": 6,
      "metadata": {
        "id": "AF_YMswyLtkL"
      },
      "outputs": [],
      "source": [
        "# calculate ticket price based on distance\n",
        "\n"
      ]
    },
    {
      "cell_type": "code",
      "source": [
        "def ticket_price():\n",
        "  distance=int(input(\"enter the no.of kilometer\"))\n",
        "  if distance < 0:\n",
        "    print(\"Distance cannot be negative.\")\n",
        "  elif distance <= 10:\n",
        "    print(\"price = 5\")\n",
        "  elif distance <= 50:\n",
        "    print(\"price = 10\")\n",
        "  else:\n",
        "    print(\"price = 15\")"
      ],
      "metadata": {
        "id": "I55ep1ymMLTn"
      },
      "execution_count": 13,
      "outputs": []
    },
    {
      "cell_type": "code",
      "source": [
        "ticket_price()\n"
      ],
      "metadata": {
        "colab": {
          "base_uri": "https://localhost:8080/"
        },
        "id": "I_q0ZkYEMZM_",
        "outputId": "16033fdd-376c-41a5-b510-8120aa0154d2"
      },
      "execution_count": 14,
      "outputs": [
        {
          "output_type": "stream",
          "name": "stdout",
          "text": [
            "enter the no.of kilometer45\n",
            "price = 10\n"
          ]
        }
      ]
    },
    {
      "cell_type": "code",
      "source": [
        "ticket_price()\n"
      ],
      "metadata": {
        "colab": {
          "base_uri": "https://localhost:8080/"
        },
        "id": "5giCW_cTNL41",
        "outputId": "a78a1317-b49c-4992-a546-a07710949cab"
      },
      "execution_count": 16,
      "outputs": [
        {
          "output_type": "stream",
          "name": "stdout",
          "text": [
            "enter the no.of kilometer6\n",
            "price = 5\n"
          ]
        }
      ]
    }
  ]
}